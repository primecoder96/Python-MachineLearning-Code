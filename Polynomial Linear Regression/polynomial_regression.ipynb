{
  "nbformat": 4,
  "nbformat_minor": 0,
  "metadata": {
    "colab": {
      "name": "Copy of polynomial_regression.ipynb",
      "provenance": [],
      "collapsed_sections": [],
      "toc_visible": true,
      "include_colab_link": true
    },
    "kernelspec": {
      "name": "python3",
      "display_name": "Python 3"
    }
  },
  "cells": [
    {
      "cell_type": "markdown",
      "metadata": {
        "id": "view-in-github",
        "colab_type": "text"
      },
      "source": [
        "<a href=\"https://colab.research.google.com/github/primecoder96/Python-MachineLearning-Code/blob/master/polynomial_regression.ipynb\" target=\"_parent\"><img src=\"https://colab.research.google.com/assets/colab-badge.svg\" alt=\"Open In Colab\"/></a>"
      ]
    },
    {
      "cell_type": "markdown",
      "metadata": {
        "id": "vN99YjPTDena",
        "colab_type": "text"
      },
      "source": [
        "# Polynomial Regression"
      ]
    },
    {
      "cell_type": "markdown",
      "metadata": {
        "id": "RUDKQ7ONh1bh",
        "colab_type": "text"
      },
      "source": [
        "Problem Statement\n",
        "\n",
        "A.positional salary data \n",
        "\n",
        "1.Salary negotiation with suitable profile by the  HR department.\n"
      ]
    },
    {
      "cell_type": "markdown",
      "metadata": {
        "id": "NI76DgmHyyqv",
        "colab_type": "text"
      },
      "source": [
        "2.The profile is very well advanced in his carrer\n",
        "\n"
      ]
    },
    {
      "cell_type": "markdown",
      "metadata": {
        "id": "kiGXJcc_y5v7",
        "colab_type": "text"
      },
      "source": [
        "3.The profile asks for a high salary \n"
      ]
    },
    {
      "cell_type": "markdown",
      "metadata": {
        "id": "m1rSjZhpy8qj",
        "colab_type": "text"
      },
      "source": [
        "4.The HR Person questions the reason for the salary demand and the reason stated is that the salary expected was based on previous salary\n"
      ]
    },
    {
      "cell_type": "markdown",
      "metadata": {
        "id": "LWn9wlTjzBgk",
        "colab_type": "text"
      },
      "source": [
        "Question:we are currently building a model to deal with non linear relation to predict the expected salary/or the previous salary of the profile"
      ]
    },
    {
      "cell_type": "markdown",
      "metadata": {
        "id": "ZIx_naXnDyHd",
        "colab_type": "text"
      },
      "source": [
        "## Importing the libraries"
      ]
    },
    {
      "cell_type": "code",
      "metadata": {
        "id": "2JKm_alHynn9",
        "colab_type": "code",
        "colab": {}
      },
      "source": [
        "import numpy as np\n",
        "import matplotlib.pyplot as plt\n",
        "import pandas as pd"
      ],
      "execution_count": 1,
      "outputs": []
    },
    {
      "cell_type": "markdown",
      "metadata": {
        "id": "6c8YExmOD5x5",
        "colab_type": "text"
      },
      "source": [
        "## Importing the dataset"
      ]
    },
    {
      "cell_type": "code",
      "metadata": {
        "id": "kILwxZeZz5Zb",
        "colab_type": "code",
        "colab": {}
      },
      "source": [
        "dataset = pd.read_csv('Position_Salaries.csv')\n",
        "x=dataset.iloc[:,1:-1].values\n",
        "y=dataset.iloc[:,-1].values\n"
      ],
      "execution_count": 3,
      "outputs": []
    },
    {
      "cell_type": "code",
      "metadata": {
        "id": "zGymYSOB0QVP",
        "colab_type": "code",
        "colab": {
          "base_uri": "https://localhost:8080/",
          "height": 218
        },
        "outputId": "f904ded1-897b-42f2-a230-41cacc1e3105"
      },
      "source": [
        "print(x)\n",
        "print(y)"
      ],
      "execution_count": 4,
      "outputs": [
        {
          "output_type": "stream",
          "text": [
            "[[ 1]\n",
            " [ 2]\n",
            " [ 3]\n",
            " [ 4]\n",
            " [ 5]\n",
            " [ 6]\n",
            " [ 7]\n",
            " [ 8]\n",
            " [ 9]\n",
            " [10]]\n",
            "[  45000   50000   60000   80000  110000  150000  200000  300000  500000\n",
            " 1000000]\n"
          ],
          "name": "stdout"
        }
      ]
    },
    {
      "cell_type": "markdown",
      "metadata": {
        "id": "Le8SEL-YEOLb",
        "colab_type": "text"
      },
      "source": [
        "## Training the Linear Regression model on the whole dataset"
      ]
    },
    {
      "cell_type": "code",
      "metadata": {
        "id": "uINESszB0hpT",
        "colab_type": "code",
        "colab": {
          "base_uri": "https://localhost:8080/",
          "height": 34
        },
        "outputId": "30c94ae5-e71b-4e99-d114-b68947e414a0"
      },
      "source": [
        "from sklearn.linear_model import LinearRegression\n",
        "lin_reg=LinearRegression()\n",
        "lin_reg.fit(x,y)"
      ],
      "execution_count": 5,
      "outputs": [
        {
          "output_type": "execute_result",
          "data": {
            "text/plain": [
              "LinearRegression(copy_X=True, fit_intercept=True, n_jobs=None, normalize=False)"
            ]
          },
          "metadata": {
            "tags": []
          },
          "execution_count": 5
        }
      ]
    },
    {
      "cell_type": "markdown",
      "metadata": {
        "id": "Rb5nWuSHEfBV",
        "colab_type": "text"
      },
      "source": [
        "## Training the Polynomial Regression model on the whole dataset"
      ]
    },
    {
      "cell_type": "code",
      "metadata": {
        "id": "eaypdk1s19QY",
        "colab_type": "code",
        "colab": {
          "base_uri": "https://localhost:8080/",
          "height": 34
        },
        "outputId": "7e0fdc19-2718-467a-c66e-45f19b09854b"
      },
      "source": [
        "from sklearn.preprocessing import PolynomialFeatures              # here we are performing pre processing of the feature \n",
        "poly_reg = PolynomialFeatures(degree = 4)\n",
        "x_poly=poly_reg.fit_transform(x)  \n",
        "lin_reg2= LinearRegression()\n",
        "lin_reg2.fit(x_poly,y)     #fit transform comes into action whenever we approach to perform a transforamtion"
      ],
      "execution_count": 6,
      "outputs": [
        {
          "output_type": "execute_result",
          "data": {
            "text/plain": [
              "LinearRegression(copy_X=True, fit_intercept=True, n_jobs=None, normalize=False)"
            ]
          },
          "metadata": {
            "tags": []
          },
          "execution_count": 6
        }
      ]
    },
    {
      "cell_type": "code",
      "metadata": {
        "id": "fMC1xD_r5ijN",
        "colab_type": "code",
        "colab": {
          "base_uri": "https://localhost:8080/",
          "height": 185
        },
        "outputId": "f0f99b1d-2566-4fe0-e84a-8163ae2601e9"
      },
      "source": [
        "print(x_poly)"
      ],
      "execution_count": 7,
      "outputs": [
        {
          "output_type": "stream",
          "text": [
            "[[1.000e+00 1.000e+00 1.000e+00 1.000e+00 1.000e+00]\n",
            " [1.000e+00 2.000e+00 4.000e+00 8.000e+00 1.600e+01]\n",
            " [1.000e+00 3.000e+00 9.000e+00 2.700e+01 8.100e+01]\n",
            " [1.000e+00 4.000e+00 1.600e+01 6.400e+01 2.560e+02]\n",
            " [1.000e+00 5.000e+00 2.500e+01 1.250e+02 6.250e+02]\n",
            " [1.000e+00 6.000e+00 3.600e+01 2.160e+02 1.296e+03]\n",
            " [1.000e+00 7.000e+00 4.900e+01 3.430e+02 2.401e+03]\n",
            " [1.000e+00 8.000e+00 6.400e+01 5.120e+02 4.096e+03]\n",
            " [1.000e+00 9.000e+00 8.100e+01 7.290e+02 6.561e+03]\n",
            " [1.000e+00 1.000e+01 1.000e+02 1.000e+03 1.000e+04]]\n"
          ],
          "name": "stdout"
        }
      ]
    },
    {
      "cell_type": "markdown",
      "metadata": {
        "id": "0O8R0tzbEpvy",
        "colab_type": "text"
      },
      "source": [
        "## Visualising the Linear Regression results"
      ]
    },
    {
      "cell_type": "code",
      "metadata": {
        "id": "5C3hIz67BWyB",
        "colab_type": "code",
        "colab": {
          "base_uri": "https://localhost:8080/",
          "height": 312
        },
        "outputId": "4f2a8a2c-9d88-4104-bb72-b17582ef1716"
      },
      "source": [
        "plt.scatter(x,y,color='red')\n",
        "plt.plot(x,lin_reg.predict(x),color='blue')\n",
        "plt.title('Linear regression model')\n",
        "plt.xlabel('level')\n",
        "plt.ylabel('predictsalary')\n",
        "\n"
      ],
      "execution_count": 8,
      "outputs": [
        {
          "output_type": "execute_result",
          "data": {
            "text/plain": [
              "Text(0, 0.5, 'predictsalary')"
            ]
          },
          "metadata": {
            "tags": []
          },
          "execution_count": 8
        },
        {
          "output_type": "display_data",
          "data": {
            "image/png": "[encoded data removed]",
            "text/plain": [
              "<Figure size 432x288 with 1 Axes>"
            ]
          },
          "metadata": {
            "tags": [],
            "needs_background": "light"
          }
        }
      ]
    },
    {
      "cell_type": "markdown",
      "metadata": {
        "id": "stOnSo74E52m",
        "colab_type": "text"
      },
      "source": [
        "## Visualising the Polynomial Regression results"
      ]
    },
    {
      "cell_type": "code",
      "metadata": {
        "id": "jOYUxaxECR41",
        "colab_type": "code",
        "colab": {
          "base_uri": "https://localhost:8080/",
          "height": 312
        },
        "outputId": "e55ab198-38eb-4181-c462-b68f889b0aef"
      },
      "source": [
        "plt.scatter(x,y,color='red')\n",
        "plt.plot(x,lin_reg2.predict(x_poly),color='blue')\n",
        "plt.title('Linear regression model')\n",
        "plt.xlabel('level')\n",
        "plt.ylabel('predictsalary')\n"
      ],
      "execution_count": 9,
      "outputs": [
        {
          "output_type": "execute_result",
          "data": {
            "text/plain": [
              "Text(0, 0.5, 'predictsalary')"
            ]
          },
          "metadata": {
            "tags": []
          },
          "execution_count": 9
        },
        {
          "output_type": "display_data",
          "data": {
            "image/png": "[encoded data removed]",
            "text/plain": [
              "<Figure size 432x288 with 1 Axes>"
            ]
          },
          "metadata": {
            "tags": [],
            "needs_background": "light"
          }
        }
      ]
    },
    {
      "cell_type": "markdown",
      "metadata": {
        "id": "U_qsAMKnE-PJ",
        "colab_type": "text"
      },
      "source": [
        "## Visualising the Polynomial Regression results (for higher resolution and smoother curve)"
      ]
    },
    {
      "cell_type": "code",
      "metadata": {
        "id": "UFTYrlgtPiOf",
        "colab_type": "code",
        "colab": {
          "base_uri": "https://localhost:8080/",
          "height": 1000
        },
        "outputId": "fdf040a3-2ba8-4e5f-f290-13424c822407"
      },
      "source": [
        "X_grid = np.arange(min(x), max(x), 0.1)\n",
        "X_grid = X_grid.reshape((len(X_grid), 1))\n",
        "plt.scatter(x, y, color = 'red')\n",
        "plt.plot(X_grid, lin_reg2.predict(poly_reg.fit_transform(X_grid)), color = 'blue')\n",
        "plt.title('Truth or Bluff (Polynomial Regression)')\n",
        "plt.xlabel('Position level')\n",
        "plt.ylabel('Salary')\n",
        "plt.show()\n",
        "print(X_grid)"
      ],
      "execution_count": 10,
      "outputs": [
        {
          "output_type": "display_data",
          "data": {
            "image/png": "[encoded data removed]",
            "text/plain": [
              "<Figure size 432x288 with 1 Axes>"
            ]
          },
          "metadata": {
            "tags": [],
            "needs_background": "light"
          }
        },
        {
          "output_type": "stream",
          "text": [
            "[[1. ]\n",
            " [1.1]\n",
            " [1.2]\n",
            " [1.3]\n",
            " [1.4]\n",
            " [1.5]\n",
            " [1.6]\n",
            " [1.7]\n",
            " [1.8]\n",
            " [1.9]\n",
            " [2. ]\n",
            " [2.1]\n",
            " [2.2]\n",
            " [2.3]\n",
            " [2.4]\n",
            " [2.5]\n",
            " [2.6]\n",
            " [2.7]\n",
            " [2.8]\n",
            " [2.9]\n",
            " [3. ]\n",
            " [3.1]\n",
            " [3.2]\n",
            " [3.3]\n",
            " [3.4]\n",
            " [3.5]\n",
            " [3.6]\n",
            " [3.7]\n",
            " [3.8]\n",
            " [3.9]\n",
            " [4. ]\n",
            " [4.1]\n",
            " [4.2]\n",
            " [4.3]\n",
            " [4.4]\n",
            " [4.5]\n",
            " [4.6]\n",
            " [4.7]\n",
            " [4.8]\n",
            " [4.9]\n",
            " [5. ]\n",
            " [5.1]\n",
            " [5.2]\n",
            " [5.3]\n",
            " [5.4]\n",
            " [5.5]\n",
            " [5.6]\n",
            " [5.7]\n",
            " [5.8]\n",
            " [5.9]\n",
            " [6. ]\n",
            " [6.1]\n",
            " [6.2]\n",
            " [6.3]\n",
            " [6.4]\n",
            " [6.5]\n",
            " [6.6]\n",
            " [6.7]\n",
            " [6.8]\n",
            " [6.9]\n",
            " [7. ]\n",
            " [7.1]\n",
            " [7.2]\n",
            " [7.3]\n",
            " [7.4]\n",
            " [7.5]\n",
            " [7.6]\n",
            " [7.7]\n",
            " [7.8]\n",
            " [7.9]\n",
            " [8. ]\n",
            " [8.1]\n",
            " [8.2]\n",
            " [8.3]\n",
            " [8.4]\n",
            " [8.5]\n",
            " [8.6]\n",
            " [8.7]\n",
            " [8.8]\n",
            " [8.9]\n",
            " [9. ]\n",
            " [9.1]\n",
            " [9.2]\n",
            " [9.3]\n",
            " [9.4]\n",
            " [9.5]\n",
            " [9.6]\n",
            " [9.7]\n",
            " [9.8]\n",
            " [9.9]]\n"
          ],
          "name": "stdout"
        }
      ]
    },
    {
      "cell_type": "markdown",
      "metadata": {
        "id": "diyJFZHhFFeK",
        "colab_type": "text"
      },
      "source": [
        "## Predicting a new result with Linear Regression"
      ]
    },
    {
      "cell_type": "code",
      "metadata": {
        "id": "9QO9E_RvREdz",
        "colab_type": "code",
        "colab": {
          "base_uri": "https://localhost:8080/",
          "height": 34
        },
        "outputId": "e65e06c8-e742-461f-eedd-0c67587dad16"
      },
      "source": [
        "lin_reg.predict([[6.5]])"
      ],
      "execution_count": 14,
      "outputs": [
        {
          "output_type": "execute_result",
          "data": {
            "text/plain": [
              "array([330378.78787879])"
            ]
          },
          "metadata": {
            "tags": []
          },
          "execution_count": 14
        }
      ]
    },
    {
      "cell_type": "markdown",
      "metadata": {
        "id": "DW7I7ZVDFNkk",
        "colab_type": "text"
      },
      "source": [
        "## Predicting a new result with Polynomial Regression"
      ]
    },
    {
      "cell_type": "code",
      "metadata": {
        "id": "XM_GaEwVfH_0",
        "colab_type": "code",
        "colab": {
          "base_uri": "https://localhost:8080/",
          "height": 34
        },
        "outputId": "c88d6df3-b846-487b-b0f3-360f29eb0d07"
      },
      "source": [
        "lin_reg2.predict(poly_reg.fit_transform([[6.5]]))"
      ],
      "execution_count": 13,
      "outputs": [
        {
          "output_type": "execute_result",
          "data": {
            "text/plain": [
              "array([158862.45265155])"
            ]
          },
          "metadata": {
            "tags": []
          },
          "execution_count": 13
        }
      ]
    }
  ]
}